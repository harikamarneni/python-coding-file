{
 "cells": [
  {
   "cell_type": "code",
   "execution_count": 4,
   "id": "97d8dd30",
   "metadata": {},
   "outputs": [
    {
     "name": "stdout",
     "output_type": "stream",
     "text": [
      "**** \n",
      " ***\n",
      "*  *\n",
      "*  *\n",
      " ** *\n"
     ]
    }
   ],
   "source": [
    "x=1\n",
    "while x<=5:\n",
    "    if x==1:\n",
    "        print(\"**** \")\n",
    "    elif x==2:\n",
    "        print(\" ***\")\n",
    "    elif x==3:\n",
    "        print(\"*  *\")\n",
    "    elif x==4:\n",
    "        print(\"*  *\")\n",
    "    else:\n",
    "        print(\" ** *\")\n",
    "    x=x+1"
   ]
  },
  {
   "cell_type": "code",
   "execution_count": 6,
   "id": "799d3492",
   "metadata": {},
   "outputs": [
    {
     "name": "stdout",
     "output_type": "stream",
     "text": [
      "* \n",
      "* \n",
      "****\n",
      "*   *\n",
      "****\n"
     ]
    }
   ],
   "source": [
    "x=1\n",
    "while x<=5:\n",
    "    if x==1:\n",
    "        print(\"* \")\n",
    "    elif x==2:\n",
    "        print(\"* \")\n",
    "    elif x==3:\n",
    "        print(\"****\")\n",
    "    elif x==4:\n",
    "        print(\"*   *\")\n",
    "    else:\n",
    "        print(\"****\")\n",
    "    x=x+1"
   ]
  },
  {
   "cell_type": "code",
   "execution_count": 7,
   "id": "64813876",
   "metadata": {},
   "outputs": [
    {
     "name": "stdout",
     "output_type": "stream",
     "text": [
      "****\n",
      "*    \n",
      "*\n",
      "****\n",
      "\n"
     ]
    }
   ],
   "source": [
    "x=1\n",
    "while x<=5:\n",
    "    if x==1:\n",
    "        print(\"****\")\n",
    "    elif x==2:\n",
    "        print(\"*    \")\n",
    "    elif x==3:\n",
    "        print(\"*\")\n",
    "    elif x==4:\n",
    "        print(\"****\")\n",
    "    else:\n",
    "        print(\"\")\n",
    "    x=x+1"
   ]
  },
  {
   "cell_type": "code",
   "execution_count": 12,
   "id": "88138d73",
   "metadata": {},
   "outputs": [
    {
     "name": "stdout",
     "output_type": "stream",
     "text": [
      "    * \n",
      "    *\n",
      " ****\n",
      "*   *\n",
      " ****\n"
     ]
    }
   ],
   "source": [
    "x=1\n",
    "while x<=5:\n",
    "    if x==1:\n",
    "        print(\"    * \")\n",
    "    elif x==2:\n",
    "        print(\"    *\")\n",
    "    elif x==3:\n",
    "        print(\" ****\")\n",
    "    elif x==4:\n",
    "        print(\"*   *\")\n",
    "    else:\n",
    "        print(\" ****\")\n",
    "    x=x+1"
   ]
  },
  {
   "cell_type": "code",
   "execution_count": 14,
   "id": "f826bf2c",
   "metadata": {},
   "outputs": [
    {
     "name": "stdout",
     "output_type": "stream",
     "text": [
      "*****\n",
      "*   *\n",
      "*  **\n",
      "*    \n",
      "*****\n"
     ]
    }
   ],
   "source": [
    "x=1\n",
    "while x<=5:\n",
    "    if x==1:\n",
    "        print(\"*****\")\n",
    "    elif x==2:\n",
    "        print(\"*   *\")\n",
    "    elif x==3:\n",
    "        print(\"*  **\")\n",
    "    elif x==4:\n",
    "        print(\"*    \")\n",
    "    else:\n",
    "        print(\"*****\")\n",
    "    x=x+1"
   ]
  },
  {
   "cell_type": "code",
   "execution_count": 17,
   "id": "7df9503b",
   "metadata": {},
   "outputs": [
    {
     "name": "stdout",
     "output_type": "stream",
     "text": [
      "*****\n",
      "*  **\n",
      "*\n",
      "***   \n",
      "*\n"
     ]
    }
   ],
   "source": [
    "x=1\n",
    "while x<=5:\n",
    "    if x==1:\n",
    "        print(\"*****\")\n",
    "    elif x==2:\n",
    "        print(\"*  **\")\n",
    "    elif x==3:\n",
    "        print(\"*\")\n",
    "    elif x==4:\n",
    "        print(\"***   \")\n",
    "    else:\n",
    "        print(\"*\")\n",
    "    x=x+1"
   ]
  },
  {
   "cell_type": "code",
   "execution_count": 20,
   "id": "dd117a21",
   "metadata": {},
   "outputs": [
    {
     "name": "stdout",
     "output_type": "stream",
     "text": [
      " ***\n",
      "*  *\n",
      " ***\n",
      "   *\n",
      "****\n"
     ]
    }
   ],
   "source": [
    "x=1\n",
    "while x<=5:\n",
    "    if x==1:\n",
    "        print(\" ***\")\n",
    "    elif x==2:\n",
    "        print(\"*  *\")\n",
    "    elif x==3:\n",
    "        print(\" ***\")\n",
    "    elif x==4:\n",
    "        print(\"   *\")\n",
    "    else:\n",
    "        print(\"****\")\n",
    "    x=x+1"
   ]
  },
  {
   "cell_type": "code",
   "execution_count": 21,
   "id": "fbe74c58",
   "metadata": {},
   "outputs": [
    {
     "name": "stdout",
     "output_type": "stream",
     "text": [
      "*\n",
      "*\n",
      "***\n",
      "*  *\n",
      "*  *\n"
     ]
    }
   ],
   "source": [
    "x=1\n",
    "while x<=5:\n",
    "    if x==1:\n",
    "        print(\"*\")\n",
    "    elif x==2:\n",
    "        print(\"*\")\n",
    "    elif x==3:\n",
    "        print(\"***\")\n",
    "    elif x==4:\n",
    "        print(\"*  *\")\n",
    "    else:\n",
    "        print(\"*  *\")\n",
    "    x=x+1"
   ]
  },
  {
   "cell_type": "code",
   "execution_count": 22,
   "id": "41143753",
   "metadata": {},
   "outputs": [
    {
     "name": "stdout",
     "output_type": "stream",
     "text": [
      "  * \n",
      "\n",
      "  *\n",
      "  *\n",
      "  *\n"
     ]
    }
   ],
   "source": [
    "x=1\n",
    "while x<=5:\n",
    "    if x==1:\n",
    "        print(\"  * \")\n",
    "    elif x==2:\n",
    "        print(\"\")\n",
    "    elif x==3:\n",
    "        print(\"  *\")\n",
    "    elif x==4:\n",
    "        print(\"  *\")\n",
    "    else:\n",
    "        print(\"  *\")\n",
    "    x=x+1"
   ]
  },
  {
   "cell_type": "code",
   "execution_count": 23,
   "id": "3ebaf7bb",
   "metadata": {},
   "outputs": [
    {
     "name": "stdout",
     "output_type": "stream",
     "text": [
      "   *\n",
      "\n",
      "   *\n",
      "   *\n",
      "  **\n"
     ]
    }
   ],
   "source": [
    "x=1\n",
    "while x<=5:\n",
    "    if x==1:\n",
    "        print(\"   *\")\n",
    "    elif x==2:\n",
    "        print(\"\")\n",
    "    elif x==3:\n",
    "        print(\"   *\")\n",
    "    elif x==4:\n",
    "        print(\"   *\")\n",
    "    else:\n",
    "        print(\"  **\")\n",
    "    x=x+1"
   ]
  },
  {
   "cell_type": "code",
   "execution_count": 24,
   "id": "b40f9a54",
   "metadata": {},
   "outputs": [
    {
     "name": "stdout",
     "output_type": "stream",
     "text": [
      "*\n",
      "*\n",
      "*  *\n",
      "**\n",
      "*  *\n"
     ]
    }
   ],
   "source": [
    "x=1\n",
    "while x<=5:\n",
    "    if x==1:\n",
    "        print(\"*\")\n",
    "    elif x==2:\n",
    "        print(\"*\")\n",
    "    elif x==3:\n",
    "        print(\"*  *\")\n",
    "    elif x==4:\n",
    "        print(\"**\")\n",
    "    else:\n",
    "        print(\"*  *\")\n",
    "    x=x+1"
   ]
  },
  {
   "cell_type": "code",
   "execution_count": 25,
   "id": "547bff50",
   "metadata": {},
   "outputs": [
    {
     "name": "stdout",
     "output_type": "stream",
     "text": [
      "* \n",
      "*\n",
      "*\n",
      "*\n",
      "*\n"
     ]
    }
   ],
   "source": [
    "x=1\n",
    "while x<=5:\n",
    "    if x==1:\n",
    "        print(\"* \")\n",
    "    elif x==2:\n",
    "        print(\"*\")\n",
    "    elif x==3:\n",
    "        print(\"*\")\n",
    "    elif x==4:\n",
    "        print(\"*\")\n",
    "    else:\n",
    "        print(\"*\")\n",
    "    x=x+1"
   ]
  },
  {
   "cell_type": "code",
   "execution_count": 27,
   "id": "df13af09",
   "metadata": {},
   "outputs": [
    {
     "name": "stdout",
     "output_type": "stream",
     "text": [
      "* *  * \n",
      "*  *  *\n",
      "*  *  *\n",
      "*     *\n",
      "\n"
     ]
    }
   ],
   "source": [
    "x=1\n",
    "while x<=5:\n",
    "    if x==1:\n",
    "        print(\"* *  * \")\n",
    "    elif x==2:\n",
    "        print(\"*  *  *\")\n",
    "    elif x==3:\n",
    "        print(\"*  *  *\")\n",
    "    elif x==4: \n",
    "        print(\"*     *\")\n",
    "    else:\n",
    "        print(\"\")\n",
    "    x=x+1"
   ]
  },
  {
   "cell_type": "code",
   "execution_count": 28,
   "id": "79ecd83e",
   "metadata": {},
   "outputs": [
    {
     "name": "stdout",
     "output_type": "stream",
     "text": [
      "*** \n",
      "*  *\n",
      "*  *\n",
      "\n",
      "\n"
     ]
    }
   ],
   "source": [
    "x=1\n",
    "while x<=5:\n",
    "    if x==1:\n",
    "        print(\"*** \")\n",
    "    elif x==2:\n",
    "        print(\"*  *\")\n",
    "    elif x==3:\n",
    "        print(\"*  *\")\n",
    "    elif x==4:\n",
    "        print(\"\")\n",
    "    else:\n",
    "        print(\"\")\n",
    "    x=x+1"
   ]
  },
  {
   "cell_type": "code",
   "execution_count": 30,
   "id": "de7b03f2",
   "metadata": {},
   "outputs": [
    {
     "name": "stdout",
     "output_type": "stream",
     "text": [
      " **** \n",
      "*    *\n",
      "*    *\n",
      " ****\n",
      "\n"
     ]
    }
   ],
   "source": [
    "x=1\n",
    "while x<=5:\n",
    "    if x==1:\n",
    "        print(\" **** \")\n",
    "    elif x==2:\n",
    "        print(\"*    *\")\n",
    "    elif x==3:\n",
    "        print(\"*    *\")\n",
    "    elif x==4:\n",
    "        print(\" ****\")\n",
    "    else:\n",
    "        print(\"\")\n",
    "    x=x+1"
   ]
  },
  {
   "cell_type": "code",
   "execution_count": 31,
   "id": "d0216058",
   "metadata": {},
   "outputs": [
    {
     "name": "stdout",
     "output_type": "stream",
     "text": [
      "** \n",
      "* *\n",
      "**\n",
      "*\n",
      "*\n"
     ]
    }
   ],
   "source": [
    "x=1\n",
    "while x<=5:\n",
    "    if x==1:\n",
    "        print(\"** \")\n",
    "    elif x==2:\n",
    "        print(\"* *\")\n",
    "    elif x==3:\n",
    "        print(\"**\")\n",
    "    elif x==4:\n",
    "        print(\"*\")\n",
    "    else:\n",
    "        print(\"*\")\n",
    "    x=x+1"
   ]
  },
  {
   "cell_type": "code",
   "execution_count": 35,
   "id": "0122dc6a",
   "metadata": {},
   "outputs": [
    {
     "name": "stdout",
     "output_type": "stream",
     "text": [
      "*** \n",
      "* *\n",
      "***  *\n",
      "  * *\n",
      "   *\n"
     ]
    }
   ],
   "source": [
    "x=1\n",
    "while x<=5:\n",
    "    if x==1:\n",
    "        print(\"*** \")\n",
    "    elif x==2:\n",
    "        print(\"* *\")\n",
    "    elif x==3:\n",
    "        print(\"***  *\")\n",
    "    elif x==4:\n",
    "        print(\"  * *\")\n",
    "    else:\n",
    "        print(\"   *\")\n",
    "    x=x+1"
   ]
  },
  {
   "cell_type": "code",
   "execution_count": 36,
   "id": "0d40a5db",
   "metadata": {},
   "outputs": [
    {
     "name": "stdout",
     "output_type": "stream",
     "text": [
      "*  * \n",
      "* *\n",
      "**\n",
      "*\n",
      "*\n"
     ]
    }
   ],
   "source": [
    "x=1\n",
    "while x<=5:\n",
    "    if x==1:\n",
    "        print(\"*  * \")\n",
    "    elif x==2:\n",
    "        print(\"* *\")\n",
    "    elif x==3:\n",
    "        print(\"**\")\n",
    "    elif x==4:\n",
    "        print(\"*\")\n",
    "    else:\n",
    "        print(\"*\")\n",
    "    x=x+1"
   ]
  },
  {
   "cell_type": "code",
   "execution_count": 37,
   "id": "67ef55c1",
   "metadata": {},
   "outputs": [
    {
     "name": "stdout",
     "output_type": "stream",
     "text": [
      "**** \n",
      "*    \n",
      "****\n",
      "   *\n",
      "****\n"
     ]
    }
   ],
   "source": [
    "x=1\n",
    "while x<=5:\n",
    "    if x==1:\n",
    "        print(\"**** \")\n",
    "    elif x==2:\n",
    "        print(\"*    \")\n",
    "    elif x==3:\n",
    "        print(\"****\")\n",
    "    elif x==4:\n",
    "        print(\"   *\")\n",
    "    else:\n",
    "        print(\"****\")\n",
    "    x=x+1"
   ]
  },
  {
   "cell_type": "code",
   "execution_count": 38,
   "id": "6fb1bd02",
   "metadata": {},
   "outputs": [
    {
     "name": "stdout",
     "output_type": "stream",
     "text": [
      "* \n",
      "* \n",
      "***\n",
      "* \n",
      "*****\n"
     ]
    }
   ],
   "source": [
    "x=1\n",
    "while x<=5:\n",
    "    if x==1:\n",
    "        print(\"* \")\n",
    "    elif x==2:\n",
    "        print(\"* \")\n",
    "    elif x==3:\n",
    "        print(\"***\")\n",
    "    elif x==4:\n",
    "        print(\"* \")\n",
    "    else:\n",
    "        print(\"*****\")\n",
    "    x=x+1"
   ]
  },
  {
   "cell_type": "code",
   "execution_count": 39,
   "id": "e4df6fe2",
   "metadata": {},
   "outputs": [
    {
     "name": "stdout",
     "output_type": "stream",
     "text": [
      "*   * \n",
      "*   *\n",
      "*****\n",
      "     *\n",
      "\n"
     ]
    }
   ],
   "source": [
    "x=1\n",
    "while x<=5:\n",
    "    if x==1:\n",
    "        print(\"*   * \")\n",
    "    elif x==2:\n",
    "        print(\"*   *\")\n",
    "    elif x==3:\n",
    "        print(\"*****\")\n",
    "    elif x==4:\n",
    "        print(\"     *\")\n",
    "    else:\n",
    "        print(\"\")\n",
    "    x=x+1"
   ]
  },
  {
   "cell_type": "code",
   "execution_count": 40,
   "id": "1e259de2",
   "metadata": {},
   "outputs": [
    {
     "name": "stdout",
     "output_type": "stream",
     "text": [
      "*     * \n",
      " *   *\n",
      "   *\n",
      "\n",
      "\n"
     ]
    }
   ],
   "source": [
    "x=1\n",
    "while x<=5:\n",
    "    if x==1:\n",
    "        print(\"*     * \")\n",
    "    elif x==2:\n",
    "        print(\" *   *\")\n",
    "    elif x==3:\n",
    "        print(\"   *\")\n",
    "    elif x==4:\n",
    "        print(\"\")\n",
    "    else:\n",
    "        print(\"\")\n",
    "    x=x+1"
   ]
  },
  {
   "cell_type": "code",
   "execution_count": 41,
   "id": "a6bb7a46",
   "metadata": {},
   "outputs": [
    {
     "name": "stdout",
     "output_type": "stream",
     "text": [
      "*    * \n",
      "* *  *\n",
      " *  *\n",
      "\n",
      "\n"
     ]
    }
   ],
   "source": [
    "x=1\n",
    "while x<=5:\n",
    "    if x==1:\n",
    "        print(\"*    * \")\n",
    "    elif x==2:\n",
    "        print(\"* *  *\")\n",
    "    elif x==3:\n",
    "        print(\" *  *\")\n",
    "    elif x==4:\n",
    "        print(\"\")\n",
    "    else:\n",
    "        print(\"\")\n",
    "    x=x+1"
   ]
  },
  {
   "cell_type": "code",
   "execution_count": 43,
   "id": "96d10a77",
   "metadata": {},
   "outputs": [
    {
     "name": "stdout",
     "output_type": "stream",
     "text": [
      "*   * \n",
      " * *\n",
      "  *\n",
      " * *\n",
      "*   *\n"
     ]
    }
   ],
   "source": [
    "x=1\n",
    "while x<=5:\n",
    "    if x==1:\n",
    "        print(\"*   * \")\n",
    "    elif x==2:\n",
    "        print(\" * *\")\n",
    "    elif x==3:\n",
    "        print(\"  *\")\n",
    "    elif x==4:\n",
    "        print(\" * *\")\n",
    "    else:\n",
    "        print(\"*   *\")\n",
    "    x=x+1"
   ]
  },
  {
   "cell_type": "code",
   "execution_count": 44,
   "id": "a823986e",
   "metadata": {},
   "outputs": [
    {
     "name": "stdout",
     "output_type": "stream",
     "text": [
      "*   *\n",
      "*   *\n",
      "  **\n",
      "    *\n",
      "*****\n"
     ]
    }
   ],
   "source": [
    "x=1\n",
    "while x<=5:\n",
    "    if x==1:\n",
    "        print(\"*   *\")\n",
    "    elif x==2:\n",
    "        print(\"*   *\")\n",
    "    elif x==3:\n",
    "        print(\"  **\")\n",
    "    elif x==4:\n",
    "        print(\"    *\")\n",
    "    else:\n",
    "        print(\"*****\")\n",
    "    x=x+1"
   ]
  },
  {
   "cell_type": "code",
   "execution_count": 45,
   "id": "1a5f6fb8",
   "metadata": {},
   "outputs": [
    {
     "name": "stdout",
     "output_type": "stream",
     "text": [
      "***** \n",
      "   *\n",
      "  *\n",
      "*    \n",
      "*****\n"
     ]
    }
   ],
   "source": [
    "x=1\n",
    "while x<=5:\n",
    "    if x==1:\n",
    "        print(\"***** \")\n",
    "    elif x==2:\n",
    "        print(\"   *\")\n",
    "    elif x==3:\n",
    "        print(\"  *\")\n",
    "    elif x==4:\n",
    "        print(\"*    \")\n",
    "    else:\n",
    "        print(\"*****\")\n",
    "    x=x+1"
   ]
  },
  {
   "cell_type": "code",
   "execution_count": null,
   "id": "69048954",
   "metadata": {},
   "outputs": [],
   "source": []
  }
 ],
 "metadata": {
  "kernelspec": {
   "display_name": "Python 3 (ipykernel)",
   "language": "python",
   "name": "python3"
  },
  "language_info": {
   "codemirror_mode": {
    "name": "ipython",
    "version": 3
   },
   "file_extension": ".py",
   "mimetype": "text/x-python",
   "name": "python",
   "nbconvert_exporter": "python",
   "pygments_lexer": "ipython3",
   "version": "3.11.3"
  }
 },
 "nbformat": 4,
 "nbformat_minor": 5
}
