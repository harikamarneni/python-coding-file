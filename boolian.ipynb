{
 "cells": [
  {
   "cell_type": "code",
   "execution_count": 3,
   "id": "225692f4",
   "metadata": {},
   "outputs": [
    {
     "name": "stdout",
     "output_type": "stream",
     "text": [
      "enter first number:10\n",
      "enter second number:5\n",
      "sum of two 10+5=15\n",
      "sud of two 10-5=5\n",
      "mul of two 10*5=50\n",
      "div of two 10/5=2.0\n",
      "mod of two 10%5=0\n"
     ]
    }
   ],
   "source": [
    "num1=int(input(\"enter first number:\"))            #Arthematic operation    ->symbols are +,-,*,/,%,//,** \n",
    "num2=int(input(\"enter second number:\"))\n",
    "print(\"sum of two {}+{}={}\".format(num1,num2,num1+num2))\n",
    "print(\"sub of two {}-{}={}\".format(num1,num2,num1-num2))\n",
    "print(\"mul of two {}*{}={}\".format(num1,num2,num1*num2))\n",
    "print(\"div of two {}/{}={}\".format(num1,num2,num1/num2))\n",
    "print(\"mod of two {}%{}={}\".format(num1,num2,num1%num2))"
   ]
  },
  {
   "cell_type": "code",
   "execution_count": 4,
   "id": "4124318c",
   "metadata": {},
   "outputs": [],
   "source": [
    "#Assinment operation        -> in this symbols are used that is \"=\""
   ]
  },
  {
   "cell_type": "code",
   "execution_count": 6,
   "id": "a252c08a",
   "metadata": {},
   "outputs": [
    {
     "data": {
      "text/plain": [
       "20"
      ]
     },
     "execution_count": 6,
     "metadata": {},
     "output_type": "execute_result"
    }
   ],
   "source": [
    "x=10\n",
    "x=x+10\n",
    "x"
   ]
  },
  {
   "cell_type": "code",
   "execution_count": 7,
   "id": "f9035df0",
   "metadata": {},
   "outputs": [],
   "source": [
    "x+=20"
   ]
  },
  {
   "cell_type": "code",
   "execution_count": 8,
   "id": "d6e46fa3",
   "metadata": {},
   "outputs": [
    {
     "data": {
      "text/plain": [
       "40"
      ]
     },
     "execution_count": 8,
     "metadata": {},
     "output_type": "execute_result"
    }
   ],
   "source": [
    "x"
   ]
  },
  {
   "cell_type": "code",
   "execution_count": 9,
   "id": "96f2620e",
   "metadata": {},
   "outputs": [],
   "source": [
    "#comparition        ->in this symbols are used they are >,<,>=,<=,==,!="
   ]
  },
  {
   "cell_type": "code",
   "execution_count": 10,
   "id": "8dcc83ed",
   "metadata": {},
   "outputs": [
    {
     "data": {
      "text/plain": [
       "False"
      ]
     },
     "execution_count": 10,
     "metadata": {},
     "output_type": "execute_result"
    }
   ],
   "source": [
    "x=10\n",
    "y=20\n",
    "x>y"
   ]
  },
  {
   "cell_type": "code",
   "execution_count": 11,
   "id": "34168062",
   "metadata": {},
   "outputs": [
    {
     "data": {
      "text/plain": [
       "True"
      ]
     },
     "execution_count": 11,
     "metadata": {},
     "output_type": "execute_result"
    }
   ],
   "source": [
    "x<y"
   ]
  },
  {
   "cell_type": "code",
   "execution_count": 12,
   "id": "fd878905",
   "metadata": {},
   "outputs": [
    {
     "data": {
      "text/plain": [
       "False"
      ]
     },
     "execution_count": 12,
     "metadata": {},
     "output_type": "execute_result"
    }
   ],
   "source": [
    "x==y"
   ]
  },
  {
   "cell_type": "code",
   "execution_count": 13,
   "id": "07d70827",
   "metadata": {},
   "outputs": [
    {
     "data": {
      "text/plain": [
       "True"
      ]
     },
     "execution_count": 13,
     "metadata": {},
     "output_type": "execute_result"
    }
   ],
   "source": [
    "x!=y"
   ]
  },
  {
   "cell_type": "code",
   "execution_count": 14,
   "id": "b00f97f7",
   "metadata": {},
   "outputs": [
    {
     "data": {
      "text/plain": [
       "False"
      ]
     },
     "execution_count": 14,
     "metadata": {},
     "output_type": "execute_result"
    }
   ],
   "source": [
    "x=10\n",
    "y=20\n",
    "x>=y"
   ]
  },
  {
   "cell_type": "code",
   "execution_count": 15,
   "id": "61c4ec9d",
   "metadata": {},
   "outputs": [],
   "source": [
    "#logical operation       ->in this keywords are used they are and ,or,not"
   ]
  },
  {
   "cell_type": "code",
   "execution_count": 16,
   "id": "7dfdb0bf",
   "metadata": {},
   "outputs": [
    {
     "data": {
      "text/plain": [
       "False"
      ]
     },
     "execution_count": 16,
     "metadata": {},
     "output_type": "execute_result"
    }
   ],
   "source": [
    "x=10\n",
    "y=5\n",
    "x>=y and x<=y"
   ]
  },
  {
   "cell_type": "code",
   "execution_count": 17,
   "id": "fa6d8ad0",
   "metadata": {},
   "outputs": [
    {
     "data": {
      "text/plain": [
       "False"
      ]
     },
     "execution_count": 17,
     "metadata": {},
     "output_type": "execute_result"
    }
   ],
   "source": [
    "10>5 and 10<10"
   ]
  },
  {
   "cell_type": "code",
   "execution_count": 18,
   "id": "9207d727",
   "metadata": {},
   "outputs": [
    {
     "data": {
      "text/plain": [
       "True"
      ]
     },
     "execution_count": 18,
     "metadata": {},
     "output_type": "execute_result"
    }
   ],
   "source": [
    "not(10>5 and 10<10)"
   ]
  },
  {
   "cell_type": "code",
   "execution_count": 19,
   "id": "744f8275",
   "metadata": {},
   "outputs": [
    {
     "data": {
      "text/plain": [
       "True"
      ]
     },
     "execution_count": 19,
     "metadata": {},
     "output_type": "execute_result"
    }
   ],
   "source": [
    "10>5 and 10%2==0"
   ]
  },
  {
   "cell_type": "code",
   "execution_count": 20,
   "id": "17a07379",
   "metadata": {},
   "outputs": [],
   "source": [
    "#identity operator         -> in this keywords are used they are is ,is not"
   ]
  },
  {
   "cell_type": "code",
   "execution_count": 21,
   "id": "f923519b",
   "metadata": {},
   "outputs": [],
   "source": [
    "x=10\n",
    "y=10\n"
   ]
  },
  {
   "cell_type": "code",
   "execution_count": 22,
   "id": "18d903a9",
   "metadata": {},
   "outputs": [
    {
     "data": {
      "text/plain": [
       "140728434988104"
      ]
     },
     "execution_count": 22,
     "metadata": {},
     "output_type": "execute_result"
    }
   ],
   "source": [
    "id(x)"
   ]
  },
  {
   "cell_type": "code",
   "execution_count": 23,
   "id": "a3dc3847",
   "metadata": {},
   "outputs": [
    {
     "data": {
      "text/plain": [
       "140728434988104"
      ]
     },
     "execution_count": 23,
     "metadata": {},
     "output_type": "execute_result"
    }
   ],
   "source": [
    "id(y)"
   ]
  },
  {
   "cell_type": "code",
   "execution_count": 24,
   "id": "69067114",
   "metadata": {},
   "outputs": [
    {
     "data": {
      "text/plain": [
       "True"
      ]
     },
     "execution_count": 24,
     "metadata": {},
     "output_type": "execute_result"
    }
   ],
   "source": [
    "x is y"
   ]
  },
  {
   "cell_type": "code",
   "execution_count": 25,
   "id": "593c51c1",
   "metadata": {},
   "outputs": [],
   "source": [
    "x=[1,2,3]\n",
    "y=[1,2,3]"
   ]
  },
  {
   "cell_type": "code",
   "execution_count": 26,
   "id": "f4b3743d",
   "metadata": {},
   "outputs": [
    {
     "data": {
      "text/plain": [
       "False"
      ]
     },
     "execution_count": 26,
     "metadata": {},
     "output_type": "execute_result"
    }
   ],
   "source": [
    "x is y"
   ]
  },
  {
   "cell_type": "code",
   "execution_count": null,
   "id": "b68e7ea4",
   "metadata": {},
   "outputs": [],
   "source": []
  }
 ],
 "metadata": {
  "kernelspec": {
   "display_name": "Python 3 (ipykernel)",
   "language": "python",
   "name": "python3"
  },
  "language_info": {
   "codemirror_mode": {
    "name": "ipython",
    "version": 3
   },
   "file_extension": ".py",
   "mimetype": "text/x-python",
   "name": "python",
   "nbconvert_exporter": "python",
   "pygments_lexer": "ipython3",
   "version": "3.11.3"
  }
 },
 "nbformat": 4,
 "nbformat_minor": 5
}
