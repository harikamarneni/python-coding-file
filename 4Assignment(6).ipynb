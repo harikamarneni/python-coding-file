{
 "cells": [
  {
   "cell_type": "code",
   "execution_count": 17,
   "id": "039659ac",
   "metadata": {},
   "outputs": [
    {
     "name": "stdout",
     "output_type": "stream",
     "text": [
      "enter any numbers: 34\n",
      "enter any number: 56\n",
      "enter any number: 1\n"
     ]
    }
   ],
   "source": [
    "#1. Define a function which will return Max of three numbers\n",
    "\n",
    "\n",
    "a=int(input(\"enter any numbers: \"))\n",
    "b=int(input(\"enter any number: \"))\n",
    "c=int(input(\"enter any number: \"))\n",
    "def max(a,b,c):\n",
    "    if a>b and b>c:\n",
    "        print(a)\n",
    "    \n",
    "    elif b>c and c>a:\n",
    "        print(b)\n",
    "    \n",
    "    else:\n",
    "        print(c)\n",
    "        "
   ]
  },
  {
   "cell_type": "code",
   "execution_count": 19,
   "id": "9031852c",
   "metadata": {},
   "outputs": [
    {
     "name": "stdout",
     "output_type": "stream",
     "text": [
      "1\n"
     ]
    }
   ],
   "source": [
    "max(a,b,c)"
   ]
  },
  {
   "cell_type": "code",
   "execution_count": 9,
   "id": "cbbb65ab",
   "metadata": {},
   "outputs": [
    {
     "name": "stdout",
     "output_type": "stream",
     "text": [
      "enter your string: harika\n"
     ]
    },
    {
     "data": {
      "text/plain": [
       "'akirah'"
      ]
     },
     "execution_count": 9,
     "metadata": {},
     "output_type": "execute_result"
    }
   ],
   "source": [
    "#2. Define a python function to reverse a string.\n",
    "\n",
    "def reverse(t):\n",
    "    x=\"\"\n",
    "    for y in t:\n",
    "        x=y+x\n",
    "    return x\n",
    "t=input(\"enter your string: \")\n",
    "reverse(t)"
   ]
  },
  {
   "cell_type": "code",
   "execution_count": 20,
   "id": "14a07b41",
   "metadata": {},
   "outputs": [],
   "source": [
    "#3.Write a python program to define a function that accepts 2 values and return its sum,subtraction and multiplication.\n",
    "  \n",
    "    \n",
    "    \n",
    "def sum(num1,num2):\n",
    "    print(num1+num2)\n"
   ]
  },
  {
   "cell_type": "markdown",
   "id": "5415fa16",
   "metadata": {},
   "source": [
    "sum(4,1)"
   ]
  },
  {
   "cell_type": "code",
   "execution_count": 21,
   "id": "df40e8b7",
   "metadata": {},
   "outputs": [
    {
     "name": "stdout",
     "output_type": "stream",
     "text": [
      "5\n"
     ]
    }
   ],
   "source": [
    "sum(4,1)"
   ]
  },
  {
   "cell_type": "code",
   "execution_count": 22,
   "id": "dde7eba4",
   "metadata": {},
   "outputs": [],
   "source": [
    "def sub(num1,num2):\n",
    "    print(num1-num2)\n"
   ]
  },
  {
   "cell_type": "code",
   "execution_count": 23,
   "id": "fd7d63cd",
   "metadata": {},
   "outputs": [
    {
     "name": "stdout",
     "output_type": "stream",
     "text": [
      "5\n"
     ]
    }
   ],
   "source": [
    "sub(10,5)"
   ]
  },
  {
   "cell_type": "code",
   "execution_count": 24,
   "id": "5543d829",
   "metadata": {},
   "outputs": [],
   "source": [
    "def mul(num1,num2):\n",
    "    print(num1*num2)\n",
    "    "
   ]
  },
  {
   "cell_type": "code",
   "execution_count": 25,
   "id": "4f9ea38f",
   "metadata": {},
   "outputs": [
    {
     "name": "stdout",
     "output_type": "stream",
     "text": [
      "6\n"
     ]
    }
   ],
   "source": [
    "mul(2,3)"
   ]
  },
  {
   "cell_type": "code",
   "execution_count": null,
   "id": "53d35c0d",
   "metadata": {},
   "outputs": [
    {
     "name": "stdout",
     "output_type": "stream",
     "text": [
      "enter total number of students : 10\n",
      "enter students roll numbers: 1234567890\n",
      "enter students roll numbers: 1234567882\n"
     ]
    }
   ],
   "source": [
    "#4. Define a function that accepts roll number and returns weather the student is present or absent.\n",
    "\n",
    "\n",
    "def student(num,l):\n",
    "    if num in l:\n",
    "        return \"He is present\"\n",
    "    else: \n",
    "        return \"He is abscent\"\n",
    "l=[]\n",
    "n=int(input(\"enter total number of students : \"))\n",
    "for i in range(n):\n",
    "    num=int(input(\"enter students roll numbers: \"))\n",
    "    l.append(num)\n",
    "print(l)\n",
    "n=int(input(\"enter the student roll number to check: \"))\n",
    "\n",
    "student(n,l) "
   ]
  },
  {
   "cell_type": "code",
   "execution_count": 26,
   "id": "938fe26b",
   "metadata": {},
   "outputs": [],
   "source": [
    "#5. Define a function in python that accepts n values and returns the maximum of n numbers.\n",
    "\n",
    "def max1(*i):\n",
    "    max(i)\n",
    "    return max(i)\n",
    "#n=input(\"enter numbers: \")"
   ]
  },
  {
   "cell_type": "code",
   "execution_count": 27,
   "id": "59d8f326",
   "metadata": {},
   "outputs": [
    {
     "ename": "TypeError",
     "evalue": "max() missing 2 required positional arguments: 'b' and 'c'",
     "output_type": "error",
     "traceback": [
      "\u001b[1;31m---------------------------------------------------------------------------\u001b[0m",
      "\u001b[1;31mTypeError\u001b[0m                                 Traceback (most recent call last)",
      "Cell \u001b[1;32mIn[27], line 1\u001b[0m\n\u001b[1;32m----> 1\u001b[0m max1(\u001b[38;5;241m5\u001b[39m,\u001b[38;5;241m9\u001b[39m,\u001b[38;5;241m22\u001b[39m,\u001b[38;5;241m67\u001b[39m)\n",
      "Cell \u001b[1;32mIn[26], line 4\u001b[0m, in \u001b[0;36mmax1\u001b[1;34m(*i)\u001b[0m\n\u001b[0;32m      3\u001b[0m \u001b[38;5;28;01mdef\u001b[39;00m \u001b[38;5;21mmax1\u001b[39m(\u001b[38;5;241m*\u001b[39mi):\n\u001b[1;32m----> 4\u001b[0m     \u001b[38;5;28mmax\u001b[39m(i)\n\u001b[0;32m      5\u001b[0m     \u001b[38;5;28;01mreturn\u001b[39;00m \u001b[38;5;28mmax\u001b[39m(i)\n",
      "\u001b[1;31mTypeError\u001b[0m: max() missing 2 required positional arguments: 'b' and 'c'"
     ]
    }
   ],
   "source": [
    "max1(5,9,22,67)"
   ]
  },
  {
   "cell_type": "code",
   "execution_count": 3,
   "id": "dd530c94",
   "metadata": {},
   "outputs": [
    {
     "name": "stdout",
     "output_type": "stream",
     "text": [
      "enter your string:qwertyuiop\n",
      "vovels:  4\n",
      "consonants:  6\n"
     ]
    }
   ],
   "source": [
    "#6. Define a function which counts vowels and consonant in a word.\n",
    "\n",
    "def vovels(s):\n",
    "    c=0\n",
    "    d=0\n",
    "    for i in s:\n",
    "        if (i.lower()==\"a\") or (i.lower()==\"e\") or (i.lower()==\"i\")  or (i.lower()==\"o\") or (i.lower()==\"u\"):\n",
    "            c+=1\n",
    "        else:\n",
    "            d=d+1\n",
    "    print(\"vovels: \",c)\n",
    "    print(\"consonants: \",d)\n",
    "string=input(\"enter your string:\")\n",
    "vovels(string)"
   ]
  },
  {
   "cell_type": "code",
   "execution_count": 5,
   "id": "9ba4f8c7",
   "metadata": {},
   "outputs": [
    {
     "name": "stdout",
     "output_type": "stream",
     "text": [
      "enter integer: 6\n"
     ]
    },
    {
     "data": {
      "text/plain": [
       "720"
      ]
     },
     "execution_count": 5,
     "metadata": {},
     "output_type": "execute_result"
    }
   ],
   "source": [
    "#7. Define a function that returns Factorial of a number.\n",
    "\n",
    "def fact(n):\n",
    "    fact=1\n",
    "    for i in range(1,n+1):\n",
    "        fact=fact*i\n",
    "    return fact\n",
    "n=int(input(\"enter integer: \"))\n",
    "fact(n)"
   ]
  },
  {
   "cell_type": "code",
   "execution_count": 6,
   "id": "7519a98c",
   "metadata": {},
   "outputs": [
    {
     "name": "stdout",
     "output_type": "stream",
     "text": [
      "enter the radius: 2\n"
     ]
    },
    {
     "data": {
      "text/plain": [
       "12.56"
      ]
     },
     "execution_count": 6,
     "metadata": {},
     "output_type": "execute_result"
    }
   ],
   "source": [
    "#8. Define a function that accepts radius and returns the area of a circle.\n",
    "\n",
    "def area(r):\n",
    "    radius=3.14*(r**2)\n",
    "    return radius\n",
    "r=int(input(\"enter the radius: \"))\n",
    "area(r)"
   ]
  },
  {
   "cell_type": "code",
   "execution_count": 7,
   "id": "ab19f85d",
   "metadata": {},
   "outputs": [
    {
     "name": "stdout",
     "output_type": "stream",
     "text": [
      "enter the num you want check: 5\n"
     ]
    },
    {
     "data": {
      "text/plain": [
       "'prime'"
      ]
     },
     "execution_count": 7,
     "metadata": {},
     "output_type": "execute_result"
    }
   ],
   "source": [
    "#9. Define a function that takes a number as a parameter and check the number is prime or not.\n",
    "\n",
    "def prime(x):\n",
    "    c=0\n",
    "    for i in range(1,x+1):\n",
    "        if (x%i==0):\n",
    "            c=c+1\n",
    "    if(c>2):\n",
    "        return \"not prime\"\n",
    "    else:\n",
    "        return \"prime\"\n",
    "n=int(input(\"enter the num you want check: \"))\n",
    "prime(n)"
   ]
  },
  {
   "cell_type": "code",
   "execution_count": 8,
   "id": "566fbfe5",
   "metadata": {},
   "outputs": [
    {
     "name": "stdout",
     "output_type": "stream",
     "text": [
      "enter the range: 6\n",
      "enter ur element: 3\n",
      "enter ur element: 4\n",
      "enter ur element: 2\n",
      "enter ur element: 44\n",
      "enter ur element: 67\n",
      "enter ur element: 1\n",
      "[3, 4, 2, 44, 67, 1]\n"
     ]
    },
    {
     "data": {
      "text/plain": [
       "True"
      ]
     },
     "execution_count": 8,
     "metadata": {},
     "output_type": "execute_result"
    }
   ],
   "source": [
    "#10. Mary wants to run a 25-mile marathon. When she attempts to sign up for the marathon, she notices the sign-up sheet doesn't \n",
    "#directly state the marathon's length. Instead, the marathon's length is listed in small, different portions. Help Mary find out \n",
    "#how long the marathon actually is. So create a function that ** Return True if the marathon is 25 miles long, otherwise, return \n",
    "#False.\n",
    "\n",
    "def marathon(l):\n",
    "    s=0\n",
    "    for i in l:\n",
    "        if(i<0):\n",
    "            i=-(i)\n",
    "            s=s+i\n",
    "        else:\n",
    "            s=s+i\n",
    "    if (s>=25):\n",
    "        return True\n",
    "    else:\n",
    "        return False\n",
    "    \n",
    "l=[]\n",
    "n=int(input(\"enter the range: \"))\n",
    "for i in range(n):\n",
    "    num=int(input(\"enter ur element: \"))\n",
    "    l.append(num)\n",
    "print(l)\n",
    "marathon(l)"
   ]
  },
  {
   "cell_type": "code",
   "execution_count": 9,
   "id": "00266cf5",
   "metadata": {},
   "outputs": [
    {
     "name": "stdout",
     "output_type": "stream",
     "text": [
      "enter the number to ckeck:34\n"
     ]
    },
    {
     "data": {
      "text/plain": [
       "False"
      ]
     },
     "execution_count": 9,
     "metadata": {},
     "output_type": "execute_result"
    }
   ],
   "source": [
    "#11. Create a function that takes a number and returns True if the number is automorphic, False if it isn't.\n",
    "\n",
    "def automorphic(x=5):\n",
    "    square=x**2\n",
    "    s=str(square)\n",
    "    if(str(x)==s[-1]):\n",
    "        return True\n",
    "    else:\n",
    "        return False\n",
    "num=int(input(\"enter the number to ckeck:\"))\n",
    "automorphic(num)"
   ]
  },
  {
   "cell_type": "code",
   "execution_count": 10,
   "id": "ddd2cef1",
   "metadata": {},
   "outputs": [
    {
     "name": "stdout",
     "output_type": "stream",
     "text": [
      "enter a number: 1\n",
      "enter number2: 2\n",
      "enter number3: 3\n"
     ]
    },
    {
     "data": {
      "text/plain": [
       "False"
      ]
     },
     "execution_count": 10,
     "metadata": {},
     "output_type": "execute_result"
    }
   ],
   "source": [
    "#12) Create a function, that will take given a, b, c, and do the following: Add a to itself b times and Check if the result \n",
    "#is divisible by c.and return true if it is divisible by c or false.\n",
    "\n",
    "\n",
    "def check(a=1,b=2,c=2):\n",
    "    num=0\n",
    "    for i in range(b):\n",
    "        num=num+a\n",
    "    if(num%c==0):\n",
    "        return True\n",
    "    else:\n",
    "        return False\n",
    "x=int(input(\"enter a number: \"))\n",
    "y=int(input(\"enter number2: \"))\n",
    "z=int(input(\"enter number3: \"))\n",
    "check(x,y,z)\n",
    "        "
   ]
  },
  {
   "cell_type": "code",
   "execution_count": 11,
   "id": "268f516f",
   "metadata": {},
   "outputs": [
    {
     "name": "stdout",
     "output_type": "stream",
     "text": [
      "enter the string: asdfghj\n"
     ]
    },
    {
     "data": {
      "text/plain": [
       "'asdfghj'"
      ]
     },
     "execution_count": 11,
     "metadata": {},
     "output_type": "execute_result"
    }
   ],
   "source": [
    "#13) Create a function that changes specific words into emoticons. Given a sentence as a string, replace the words \n",
    "#smile, grin, sad and mad with their corresponding emoticons.\n",
    "\n",
    "def emoji(s):\n",
    "    l=s.split()\n",
    "    for i in l:\n",
    "        if(i==\"smile\"):\n",
    "            s=s.replace(\"smile\",\":D\")\n",
    "        elif(i==\"sad\"):\n",
    "            s=s.replace(\"sad\",\":(\")\n",
    "        elif(i==\"grin\"):\n",
    "            s=replace(\"sad\",\":)\")\n",
    "        elif(i==\"mad\"):\n",
    "            s=s.replace(\"sad\",\":p\")\n",
    "    return s\n",
    "string=input(\"enter the string: \")\n",
    "emoji(string)"
   ]
  },
  {
   "cell_type": "code",
   "execution_count": 12,
   "id": "19c4a587",
   "metadata": {},
   "outputs": [
    {
     "name": "stdout",
     "output_type": "stream",
     "text": [
      "enter the range: 5\n",
      "enter the numbers: 1\n",
      "enter the numbers: 2\n",
      "enter the numbers: 3\n",
      "enter the numbers: 4\n",
      "enter the numbers: 5\n",
      "[1, 2, 3, 4, 5]\n",
      "squares:  [1, 4, 9, 16, 25]\n",
      "cubes:  [1, 8, 27, 64, 125]\n"
     ]
    }
   ],
   "source": [
    "#14) Write a Python program to square and cube every number in a given list of integers using Lambda.\n",
    "\n",
    "l=[]\n",
    "n=int(input(\"enter the range: \"))\n",
    "for i in range(n):\n",
    "    num=input(\"enter the numbers: \")\n",
    "    if(num.isdigit()):\n",
    "        num=int(num)\n",
    "        l.append(num)\n",
    "    else:\n",
    "        l.append(num)\n",
    "print(l)\n",
    "y=list(map(lambda x:x**2,l))\n",
    "x=list(map(lambda x:x**3,l))\n",
    "print(\"squares: \",y)\n",
    "print(\"cubes: \",x)"
   ]
  },
  {
   "cell_type": "code",
   "execution_count": 13,
   "id": "91b07038",
   "metadata": {},
   "outputs": [
    {
     "name": "stdout",
     "output_type": "stream",
     "text": [
      "enter a string to check: sdfghj\n"
     ]
    },
    {
     "data": {
      "text/plain": [
       "False"
      ]
     },
     "execution_count": 13,
     "metadata": {},
     "output_type": "execute_result"
    }
   ],
   "source": [
    "#15)Write a Python program to check whether a given string is number or not using Lambda.\n",
    "s=input(\"enter a string to check: \")\n",
    "num=lambda x:x.isdigit() \n",
    "num(s)"
   ]
  },
  {
   "cell_type": "code",
   "execution_count": null,
   "id": "74261f56",
   "metadata": {},
   "outputs": [],
   "source": []
  }
 ],
 "metadata": {
  "kernelspec": {
   "display_name": "Python 3 (ipykernel)",
   "language": "python",
   "name": "python3"
  },
  "language_info": {
   "codemirror_mode": {
    "name": "ipython",
    "version": 3
   },
   "file_extension": ".py",
   "mimetype": "text/x-python",
   "name": "python",
   "nbconvert_exporter": "python",
   "pygments_lexer": "ipython3",
   "version": "3.11.3"
  }
 },
 "nbformat": 4,
 "nbformat_minor": 5
}
