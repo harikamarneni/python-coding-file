{
 "cells": [
  {
   "cell_type": "code",
   "execution_count": 2,
   "id": "088414ea",
   "metadata": {},
   "outputs": [],
   "source": [
    "#1 create av python program to print the below pattern using for loop or while loop\n",
    "#a) 1\n",
    "#   22\n",
    "#   333\n",
    "#   4444\n",
    "#   55555"
   ]
  },
  {
   "cell_type": "code",
   "execution_count": 5,
   "id": "6562c327",
   "metadata": {},
   "outputs": [
    {
     "name": "stdout",
     "output_type": "stream",
     "text": [
      "1\n",
      "22\n",
      "333\n",
      "4444\n",
      "55555\n"
     ]
    }
   ],
   "source": [
    "A='1'\n",
    "B='22'\n",
    "C='333'\n",
    "D='4444'\n",
    "E='55555'\n",
    "for x in A:\n",
    "    print(A)\n",
    "    for x in B:\n",
    "        print(B)\n",
    "        for x in C:\n",
    "            print(C)\n",
    "            for x in D:\n",
    "                print(D)\n",
    "                for x in E:\n",
    "                    print(E)\n",
    "                    break\n",
    "                break\n",
    "            break\n",
    "        break\n",
    "    break\n"
   ]
  },
  {
   "cell_type": "code",
   "execution_count": 9,
   "id": "894a6296",
   "metadata": {},
   "outputs": [
    {
     "name": "stdout",
     "output_type": "stream",
     "text": [
      "11111\n",
      "2222\n",
      "333\n",
      "44\n",
      "5\n"
     ]
    }
   ],
   "source": [
    "#c\n",
    "A='11111'\n",
    "B='2222'\n",
    "C='333'\n",
    "D='44'\n",
    "E='5'\n",
    "for x in A:\n",
    "    print(A)\n",
    "    for x in B:\n",
    "        print(B)\n",
    "        for x in C:\n",
    "            print(C)\n",
    "            for x in D:\n",
    "                print(D)\n",
    "                for x in E:\n",
    "                    print(E)\n",
    "                    break\n",
    "                break\n",
    "            break\n",
    "        break\n",
    "    break\n"
   ]
  },
  {
   "cell_type": "code",
   "execution_count": 11,
   "id": "1fdf95fa",
   "metadata": {},
   "outputs": [
    {
     "name": "stdout",
     "output_type": "stream",
     "text": [
      "1\n",
      "12\n",
      "123\n",
      "1234\n",
      "12345\n"
     ]
    }
   ],
   "source": [
    "#b\n",
    "A='1'\n",
    "B='12'\n",
    "C='123'\n",
    "D='1234'\n",
    "E='12345'\n",
    "for x in A:\n",
    "    print(A)\n",
    "    for x in B:\n",
    "        print(B)\n",
    "        for x in C:\n",
    "            print(C)\n",
    "            for x in D:\n",
    "                print(D)\n",
    "                for x in E:\n",
    "                    print(E)\n",
    "                    break\n",
    "                break\n",
    "            break\n",
    "        break\n",
    "    break\n"
   ]
  },
  {
   "cell_type": "code",
   "execution_count": 12,
   "id": "b7db447b",
   "metadata": {},
   "outputs": [
    {
     "name": "stdout",
     "output_type": "stream",
     "text": [
      "55555\n",
      "5555\n",
      "555\n",
      "55\n",
      "5\n"
     ]
    }
   ],
   "source": [
    "#d\n",
    "A='55555'\n",
    "B='5555'\n",
    "C='555'\n",
    "D='55'\n",
    "E='5'\n",
    "for x in A:\n",
    "    print(A)\n",
    "    for x in B:\n",
    "        print(B)\n",
    "        for x in C:\n",
    "            print(C)\n",
    "            for x in D:\n",
    "                print(D)\n",
    "                for x in E:\n",
    "                    print(E)\n",
    "                    break\n",
    "                break\n",
    "            break\n",
    "        break\n",
    "    break\n"
   ]
  },
  {
   "cell_type": "code",
   "execution_count": 15,
   "id": "ca6d93e0",
   "metadata": {},
   "outputs": [
    {
     "name": "stdout",
     "output_type": "stream",
     "text": [
      "012345\n",
      "01234\n",
      "0123\n",
      "012\n",
      "01`\n"
     ]
    }
   ],
   "source": [
    "#e\n",
    "A='012345'\n",
    "B='01234'\n",
    "C='0123'\n",
    "D='012'\n",
    "E='01`'\n",
    "for x in A:\n",
    "    print(A)\n",
    "    for x in B:\n",
    "        print(B)\n",
    "        for x in C:\n",
    "            print(C)\n",
    "            for x in D:\n",
    "                print(D)\n",
    "                for x in E:\n",
    "                    print(E)\n",
    "                    break\n",
    "                break\n",
    "            break\n",
    "        break\n",
    "    break\n"
   ]
  },
  {
   "cell_type": "code",
   "execution_count": 16,
   "id": "85fddf13",
   "metadata": {},
   "outputs": [
    {
     "name": "stdout",
     "output_type": "stream",
     "text": [
      "1\n",
      "33\n",
      "555\n",
      "7777\n",
      "99999\n"
     ]
    }
   ],
   "source": [
    "#f\n",
    "A='1'\n",
    "B='33'\n",
    "C='555'\n",
    "D='7777'\n",
    "E='99999'\n",
    "for x in A:\n",
    "    print(A)\n",
    "    for x in B:\n",
    "        print(B)\n",
    "        for x in C:\n",
    "            print(C)\n",
    "            for x in D:\n",
    "                print(D)\n",
    "                for x in E:\n",
    "                    print(E)\n",
    "                    break\n",
    "                break\n",
    "            break\n",
    "        break\n",
    "    break\n",
    "\n"
   ]
  },
  {
   "cell_type": "code",
   "execution_count": 17,
   "id": "eb234ef5",
   "metadata": {},
   "outputs": [
    {
     "name": "stdout",
     "output_type": "stream",
     "text": [
      "55555\n",
      "4444\n",
      "333\n",
      "22\n",
      "1\n"
     ]
    }
   ],
   "source": [
    "#g\n",
    "A='55555'\n",
    "B='4444'\n",
    "C='333'\n",
    "D='22'\n",
    "E='1'\n",
    "for x in A:\n",
    "    print(A)\n",
    "    for x in B:\n",
    "        print(B)\n",
    "        for x in C:\n",
    "            print(C)\n",
    "            for x in D:\n",
    "                print(D)\n",
    "                for x in E:\n",
    "                    print(E)\n",
    "                    break\n",
    "                break\n",
    "            break\n",
    "        break\n",
    "    break\n"
   ]
  },
  {
   "cell_type": "code",
   "execution_count": 18,
   "id": "26d75caa",
   "metadata": {},
   "outputs": [
    {
     "name": "stdout",
     "output_type": "stream",
     "text": [
      "1\n",
      "21\n",
      "321\n",
      "4321\n",
      "54321\n"
     ]
    }
   ],
   "source": [
    "#h\n",
    "A='1'\n",
    "B='21'\n",
    "C='321'\n",
    "D='4321'\n",
    "E='54321'\n",
    "for x in A:\n",
    "    print(A)\n",
    "    for x in B:\n",
    "        print(B)\n",
    "        for x in C:\n",
    "            print(C)\n",
    "            for x in D:\n",
    "                print(D)\n",
    "                for x in E:\n",
    "                    print(E)\n",
    "                    break\n",
    "                break\n",
    "            break\n",
    "        break\n",
    "    break\n"
   ]
  },
  {
   "cell_type": "code",
   "execution_count": 19,
   "id": "479c3a3d",
   "metadata": {},
   "outputs": [
    {
     "name": "stdout",
     "output_type": "stream",
     "text": [
      "54321\n",
      "4321\n",
      "321\n",
      "21\n",
      "1\n"
     ]
    }
   ],
   "source": [
    "#i\n",
    "A='54321'\n",
    "B='4321'\n",
    "C='321'\n",
    "D='21'\n",
    "E='1'\n",
    "for x in A:\n",
    "    print(A)\n",
    "    for x in B:\n",
    "        print(B)\n",
    "        for x in C:\n",
    "            print(C)\n",
    "            for x in D:\n",
    "                print(D)\n",
    "                for x in E:\n",
    "                    print(E)\n",
    "                    break\n",
    "                break\n",
    "            break\n",
    "        break\n",
    "    break\n"
   ]
  },
  {
   "cell_type": "code",
   "execution_count": 20,
   "id": "4bca51d0",
   "metadata": {},
   "outputs": [
    {
     "name": "stdout",
     "output_type": "stream",
     "text": [
      "1\n",
      "32\n",
      "654\n",
      "10987\n"
     ]
    }
   ],
   "source": [
    "#j\n",
    "A='1'\n",
    "B='32'\n",
    "C='654'\n",
    "D='10987'\n",
    "\n",
    "for x in A:\n",
    "    print(A)\n",
    "    for x in B:\n",
    "        print(B)\n",
    "        for x in C:\n",
    "            print(C)\n",
    "            for x in D:\n",
    "                print(D)\n",
    "                break\n",
    "            break\n",
    "        break\n",
    "    break\n"
   ]
  },
  {
   "cell_type": "code",
   "execution_count": 21,
   "id": "32d32ca7",
   "metadata": {},
   "outputs": [
    {
     "name": "stdout",
     "output_type": "stream",
     "text": [
      "    1\n",
      "   12\n",
      "  123\n",
      " 1234\n",
      "12345\n"
     ]
    }
   ],
   "source": [
    "#k\n",
    "A='    1'\n",
    "B='   12'\n",
    "C='  123'\n",
    "D=' 1234'\n",
    "E='12345'\n",
    "for x in A:\n",
    "    print(A)\n",
    "    for x in B:\n",
    "        print(B)\n",
    "        for x in C:\n",
    "            print(C)\n",
    "            for x in D:\n",
    "                print(D)\n",
    "                for x in E:\n",
    "                    print(E)\n",
    "                    break\n",
    "                break\n",
    "            break\n",
    "        break\n",
    "    break\n"
   ]
  },
  {
   "cell_type": "code",
   "execution_count": 23,
   "id": "6197f38c",
   "metadata": {},
   "outputs": [
    {
     "name": "stdout",
     "output_type": "stream",
     "text": [
      "1\n",
      "11\n",
      "121\n",
      "1331\n",
      "14641\n",
      "15101051\n",
      "1615201561\n"
     ]
    }
   ],
   "source": [
    "#l\n",
    "A='1'\n",
    "B='11'\n",
    "C='121'\n",
    "D='1331'\n",
    "E='14641'\n",
    "F='15101051'\n",
    "g='1615201561'\n",
    "for x in A:\n",
    "    print(A)\n",
    "    for x in B:\n",
    "        print(B)\n",
    "        for x in C:\n",
    "            print(C)\n",
    "            for x in D:\n",
    "                print(D)\n",
    "                for x in E:\n",
    "                    print(E)\n",
    "                    for x in F:\n",
    "                        print(F)\n",
    "                        for x in g:\n",
    "                            print(g)\n",
    "                            break\n",
    "                        break\n",
    "                    break\n",
    "                break\n",
    "            break\n",
    "        break\n",
    "    break\n"
   ]
  },
  {
   "cell_type": "code",
   "execution_count": 24,
   "id": "c0cd6a09",
   "metadata": {},
   "outputs": [
    {
     "name": "stdout",
     "output_type": "stream",
     "text": [
      "12345\n",
      "22345\n",
      "33345\n",
      "44445\n",
      "55555\n"
     ]
    }
   ],
   "source": [
    "#m\n",
    "A='12345'\n",
    "B='22345'\n",
    "C='33345'\n",
    "D='44445'\n",
    "E='55555'\n",
    "for x in A:\n",
    "    print(A)\n",
    "    for x in B:\n",
    "        print(B)\n",
    "        for x in C:\n",
    "            print(C)\n",
    "            for x in D:\n",
    "                print(D)\n",
    "                for x in E:\n",
    "                    print(E)\n",
    "                    break\n",
    "                break\n",
    "            break\n",
    "        break\n",
    "    break\n"
   ]
  },
  {
   "cell_type": "code",
   "execution_count": 25,
   "id": "9e5a48d6",
   "metadata": {},
   "outputs": [
    {
     "name": "stdout",
     "output_type": "stream",
     "text": [
      "1\n",
      "2 4\n",
      "3 6 9\n",
      "4 8 12 16\n",
      "5 10 15 20 25\n",
      "6 12 18 24 30 36\n",
      "7 14 21 28 35 42 49\n",
      "8 16 24 32 40 48 56 64\n"
     ]
    }
   ],
   "source": [
    "#n\n",
    "A='1'\n",
    "B='2 4'\n",
    "C='3 6 9'\n",
    "D='4 8 12 16'\n",
    "E='5 10 15 20 25'\n",
    "F='6 12 18 24 30 36'\n",
    "G='7 14 21 28 35 42 49'\n",
    "H='8 16 24 32 40 48 56 64'\n",
    "for x in A:\n",
    "    print(A)\n",
    "    for x in B:\n",
    "        print(B)\n",
    "        for x in C:\n",
    "            print(C)\n",
    "            for x in D:\n",
    "                print(D)\n",
    "                for x in E:\n",
    "                    print(E)\n",
    "                    for x in F:\n",
    "                        print(F)\n",
    "                        for x in G:\n",
    "                            print(G)\n",
    "                            for x in H:\n",
    "                                print(H)\n",
    "                                break\n",
    "                            break\n",
    "                        break\n",
    "                    break\n",
    "                break\n",
    "            break\n",
    "        break\n",
    "    break\n"
   ]
  },
  {
   "cell_type": "code",
   "execution_count": 26,
   "id": "f7d3ad66",
   "metadata": {},
   "outputs": [
    {
     "name": "stdout",
     "output_type": "stream",
     "text": [
      "*\n",
      "**\n",
      "***\n",
      "****\n",
      "*****\n"
     ]
    }
   ],
   "source": [
    "#o\n",
    "A='*'\n",
    "B='**'\n",
    "C='***'\n",
    "D='****'\n",
    "E='*****'\n",
    "for x in A:\n",
    "    print(A)\n",
    "    for x in B:\n",
    "        print(B)\n",
    "        for x in C:\n",
    "            print(C)\n",
    "            for x in D:\n",
    "                print(D)\n",
    "                for x in E:\n",
    "                    print(E)\n",
    "                    break\n",
    "                break\n",
    "            break\n",
    "        break\n",
    "    break\n"
   ]
  },
  {
   "cell_type": "code",
   "execution_count": 27,
   "id": "bcd78f68",
   "metadata": {},
   "outputs": [
    {
     "name": "stdout",
     "output_type": "stream",
     "text": [
      "    *\n",
      "   **\n",
      "  ***\n",
      " ****\n",
      "*****\n"
     ]
    }
   ],
   "source": [
    "#p\n",
    "A='    *'\n",
    "B='   **'\n",
    "C='  ***'\n",
    "D=' ****'\n",
    "E='*****'\n",
    "for x in A:\n",
    "    print(A)\n",
    "    for x in B:\n",
    "        print(B)\n",
    "        for x in C:\n",
    "            print(C)\n",
    "            for x in D:\n",
    "                print(D)\n",
    "                for x in E:\n",
    "                    print(E)\n",
    "                    break\n",
    "                break\n",
    "            break\n",
    "        break\n",
    "    break\n"
   ]
  },
  {
   "cell_type": "code",
   "execution_count": 28,
   "id": "83bfae24",
   "metadata": {},
   "outputs": [
    {
     "name": "stdout",
     "output_type": "stream",
     "text": [
      "*****\n",
      "****\n",
      "***\n",
      "**\n",
      "*\n"
     ]
    }
   ],
   "source": [
    "#q\n",
    "A='*****'\n",
    "B='****'\n",
    "C='***'\n",
    "D='**'\n",
    "E='*'\n",
    "for x in A:\n",
    "    print(A)\n",
    "    for x in B:\n",
    "        print(B)\n",
    "        for x in C:\n",
    "            print(C)\n",
    "            for x in D:\n",
    "                print(D)\n",
    "                for x in E:\n",
    "                    print(E)\n",
    "                    break\n",
    "                break\n",
    "            break\n",
    "        break\n",
    "    break\n"
   ]
  },
  {
   "cell_type": "code",
   "execution_count": 29,
   "id": "8399d425",
   "metadata": {},
   "outputs": [
    {
     "name": "stdout",
     "output_type": "stream",
     "text": [
      "* * * * * *\n",
      " * * * * *\n",
      "  * * * *\n",
      "   * * *\n",
      "    * *\n",
      "     *\n"
     ]
    }
   ],
   "source": [
    "#r\n",
    "A='* * * * * *'\n",
    "B=' * * * * *'\n",
    "C='  * * * *'\n",
    "D='   * * *'\n",
    "E='    * *'\n",
    "F='     *'\n",
    "for x in A:\n",
    "    print(A)\n",
    "    for x in B:\n",
    "        print(B)\n",
    "        for x in C:\n",
    "            print(C)\n",
    "            for x in D:\n",
    "                print(D)\n",
    "                for x in E:\n",
    "                    print(E)\n",
    "                    for x in F:\n",
    "                        print(F)\n",
    "                        break\n",
    "                    break\n",
    "                break\n",
    "            break\n",
    "        break\n",
    "    break\n"
   ]
  },
  {
   "cell_type": "code",
   "execution_count": 30,
   "id": "d75d4fef",
   "metadata": {},
   "outputs": [
    {
     "name": "stdout",
     "output_type": "stream",
     "text": [
      "*****\n",
      " ****\n",
      "  ***\n",
      "   **\n",
      "    *\n"
     ]
    }
   ],
   "source": [
    "#s\n",
    "A='*****'\n",
    "B=' ****'\n",
    "C='  ***'\n",
    "D='   **'\n",
    "E='    *'\n",
    "for x in A:\n",
    "    print(A)\n",
    "    for x in B:\n",
    "        print(B)\n",
    "        for x in C:\n",
    "            print(C)\n",
    "            for x in D:\n",
    "                print(D)\n",
    "                for x in E:\n",
    "                    print(E)\n",
    "                    break\n",
    "                break\n",
    "            break\n",
    "        break\n",
    "    break\n"
   ]
  },
  {
   "cell_type": "code",
   "execution_count": 31,
   "id": "3b210271",
   "metadata": {},
   "outputs": [
    {
     "name": "stdout",
     "output_type": "stream",
     "text": [
      "      *\n",
      "     * *\n",
      "    * * *\n",
      "   * * * *\n",
      "  * * * * *\n"
     ]
    }
   ],
   "source": [
    "#t\n",
    "A='      *'\n",
    "B='     * *'\n",
    "C='    * * *'\n",
    "D='   * * * *'\n",
    "E='  * * * * *'\n",
    "F=' * * * * * *'\n",
    "G='* * * * * * *'\n",
    "for x in A:\n",
    "    print(A)\n",
    "    for x in B:\n",
    "        print(B)\n",
    "        for x in C:\n",
    "            print(C)\n",
    "            for x in D:\n",
    "                print(D)\n",
    "                for x in E:\n",
    "                    print(E)\n",
    "                    break\n",
    "                break\n",
    "            break\n",
    "        break\n",
    "    break\n"
   ]
  },
  {
   "cell_type": "code",
   "execution_count": 33,
   "id": "a644cd50",
   "metadata": {},
   "outputs": [
    {
     "name": "stdout",
     "output_type": "stream",
     "text": [
      "     *\n",
      "    * *\n",
      "   * * *\n",
      "  * * * *\n",
      " * * * * *\n",
      "* * * * * *\n",
      " * * * * *\n",
      "  * * * *\n",
      "   * * *\n",
      "    * *\n",
      "     *\n"
     ]
    }
   ],
   "source": [
    "#u\n",
    "A='     *'\n",
    "B='    * *'\n",
    "C='   * * *'\n",
    "D='  * * * *'\n",
    "E=' * * * * *'\n",
    "F='* * * * * *'\n",
    "G=' * * * * *'\n",
    "H='  * * * *'\n",
    "I='   * * *'\n",
    "J='    * *'\n",
    "K='     *'\n",
    "for x in A:\n",
    "    print(A)\n",
    "    for x in B:\n",
    "        print(B)\n",
    "        for x in C:\n",
    "            print(C)\n",
    "            for x in D:\n",
    "                print(D)\n",
    "                for x in E:\n",
    "                    print(E)\n",
    "                    for x in F:\n",
    "                        print(F)\n",
    "                        for x in G:\n",
    "                            print(G)\n",
    "                            for x in H:\n",
    "                                print(H)\n",
    "                                for x in I:\n",
    "                                    print(I)\n",
    "                                    for x in J:\n",
    "                                        print(J)\n",
    "                                        for x in K:\n",
    "                                            print(K)\n",
    "                                            break\n",
    "                                        break\n",
    "                                    break\n",
    "                                break\n",
    "                            break\n",
    "                        break\n",
    "                    break\n",
    "                break\n",
    "            break\n",
    "        break\n",
    "    break\n"
   ]
  },
  {
   "cell_type": "code",
   "execution_count": 34,
   "id": "9ae68045",
   "metadata": {},
   "outputs": [
    {
     "name": "stdout",
     "output_type": "stream",
     "text": [
      "     * \n",
      "   *   *\n",
      "  *     *\n",
      " *       *\n",
      "  *     *\n",
      "   *   *\n",
      "     *\n"
     ]
    }
   ],
   "source": [
    "#v\n",
    "\n",
    "B='     * '\n",
    "C='   *   *'\n",
    "D='  *     *'\n",
    "E=' *       *'\n",
    "F='  *     *'\n",
    "G='   *   *'\n",
    "H='     *'\n",
    "for x in B:\n",
    "    print(B)\n",
    "    for x in C:\n",
    "        print(C)\n",
    "        for x in D:\n",
    "            print(D)\n",
    "            for x in E:\n",
    "                print(E)\n",
    "                for x in F:\n",
    "                    print(F)\n",
    "                    for x in G:\n",
    "                        print(G)\n",
    "                        for x in H:\n",
    "                            print(H)\n",
    "                            break\n",
    "                        break\n",
    "                    break\n",
    "                break\n",
    "            break\n",
    "        break\n",
    "    break\n"
   ]
  },
  {
   "cell_type": "code",
   "execution_count": null,
   "id": "86c281bf",
   "metadata": {},
   "outputs": [],
   "source": []
  }
 ],
 "metadata": {
  "kernelspec": {
   "display_name": "Python 3 (ipykernel)",
   "language": "python",
   "name": "python3"
  },
  "language_info": {
   "codemirror_mode": {
    "name": "ipython",
    "version": 3
   },
   "file_extension": ".py",
   "mimetype": "text/x-python",
   "name": "python",
   "nbconvert_exporter": "python",
   "pygments_lexer": "ipython3",
   "version": "3.11.3"
  }
 },
 "nbformat": 4,
 "nbformat_minor": 5
}
