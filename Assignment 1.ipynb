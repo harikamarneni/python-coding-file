{
 "cells": [
  {
   "cell_type": "code",
   "execution_count": 1,
   "id": "560bdfaf",
   "metadata": {},
   "outputs": [],
   "source": [
    "#1 write a python program to convert a string to lower case"
   ]
  },
  {
   "cell_type": "code",
   "execution_count": 5,
   "id": "66df7978",
   "metadata": {},
   "outputs": [
    {
     "data": {
      "text/plain": [
       "'python string'"
      ]
     },
     "execution_count": 5,
     "metadata": {},
     "output_type": "execute_result"
    }
   ],
   "source": [
    "x=\"PYTHON STRING\"\n",
    "x.lower()"
   ]
  },
  {
   "cell_type": "code",
   "execution_count": 6,
   "id": "e438c8ad",
   "metadata": {},
   "outputs": [],
   "source": [
    "#2 Write a python program to convert only odd indexed charecters to lower case"
   ]
  },
  {
   "cell_type": "code",
   "execution_count": 7,
   "id": "a182dbde",
   "metadata": {},
   "outputs": [
    {
     "data": {
      "text/plain": [
       "'PyThOn'"
      ]
     },
     "execution_count": 7,
     "metadata": {},
     "output_type": "execute_result"
    }
   ],
   "source": [
    "var=\"PYTHON\"\n",
    "var[0].upper()+var[1].lower()+var[2].upper()+var[3].lower()+var[4].upper()+var[5].lower()"
   ]
  },
  {
   "cell_type": "code",
   "execution_count": 8,
   "id": "f8537860",
   "metadata": {},
   "outputs": [],
   "source": [
    "#3 Write a python program to convert only even indexed charecters to lower case"
   ]
  },
  {
   "cell_type": "code",
   "execution_count": 9,
   "id": "cc6a9b20",
   "metadata": {},
   "outputs": [
    {
     "data": {
      "text/plain": [
       "'pYtHoN'"
      ]
     },
     "execution_count": 9,
     "metadata": {},
     "output_type": "execute_result"
    }
   ],
   "source": [
    "var=\"PYTHON\"\n",
    "var[0].lower()+var[1].upper()+var[2].lower()+var[3].upper()+var[4].lower()+var[5].upper()"
   ]
  },
  {
   "cell_type": "code",
   "execution_count": 10,
   "id": "5f05ea1f",
   "metadata": {},
   "outputs": [
    {
     "data": {
      "text/plain": [
       "'pYtHoN'"
      ]
     },
     "execution_count": 10,
     "metadata": {},
     "output_type": "execute_result"
    }
   ],
   "source": [
    "#4 write a python program to convert only odd indexed charecters to upper case\n",
    "var=\"python\"\n",
    "var[0].lower()+var[1].upper()+var[2].lower()+var[3].upper()+var[4].lower()+var[5].upper()"
   ]
  },
  {
   "cell_type": "code",
   "execution_count": 11,
   "id": "7ef7e67d",
   "metadata": {},
   "outputs": [
    {
     "data": {
      "text/plain": [
       "'PyThOn'"
      ]
     },
     "execution_count": 11,
     "metadata": {},
     "output_type": "execute_result"
    }
   ],
   "source": [
    "#5 write a python program to convert only even indexed charecters to upper case\n",
    "var=\"python\"\n",
    "var[0].upper()+var[1].lower()+var[2].upper()+var[3].lower()+var[4].upper()+var[5].lower()"
   ]
  },
  {
   "cell_type": "code",
   "execution_count": 13,
   "id": "ddbd86e5",
   "metadata": {},
   "outputs": [
    {
     "name": "stdout",
     "output_type": "stream",
     "text": [
      "enter your name:harika\n",
      "enter your gender:f\n",
      "enter your age:23\n",
      "enter your phone no:1234567890\n",
      "enter your father name:srinu\n",
      "enter your mother name:lakshmi\n",
      "<built-in method format of str object at 0x0000026F8CD625F0>\n"
     ]
    }
   ],
   "source": [
    "#6 Write a python program where you have different variable which contains your name,sex,age,phone no,father name and mother name.And by using this variable creat a\n",
    "name=input(\"enter your name:\")\n",
    "sex=input(\"enter your gender:\")\n",
    "age=int(input(\"enter your age:\"))\n",
    "ph_no=int(input(\"enter your phone no:\"))\n",
    "fname=input(\"enter your father name:\")\n",
    "mname=input(\"enter your mother name:\")\n",
    "bio_data=\"my name is {} my gender is {} my age is {} my ph_no is {} my father name is {} my mother name is {}\"\n",
    "print(\"bio_data\".format)"
   ]
  },
  {
   "cell_type": "code",
   "execution_count": 16,
   "id": "3b6529e5",
   "metadata": {},
   "outputs": [
    {
     "data": {
      "text/plain": [
       "4"
      ]
     },
     "execution_count": 16,
     "metadata": {},
     "output_type": "execute_result"
    }
   ],
   "source": [
    "#7 Write a python program to count how many times \"@\" occured\n",
    "y=\"abcd@utkj@@mkhb@\"\n",
    "y.count(\"@\")"
   ]
  },
  {
   "cell_type": "code",
   "execution_count": 51,
   "id": "0a1dd9e1",
   "metadata": {},
   "outputs": [
    {
     "name": "stdout",
     "output_type": "stream",
     "text": [
      "name1\n",
      "name2\n",
      "name3\n"
     ]
    }
   ],
   "source": [
    "#8 write a python program to get only names from the string\"name1.@gmail.com,name2.@gmail.com,name3.@gmail.com\"\n",
    "z=\"name1.@gmail.com,name2.@gmail.com,name3.@gmail.com\"\n",
    "name1=\"name1.@gmail.com\"\n",
    "name2=\"name2.@gmail.com\"\n",
    "name3=\"name3.@gmail.com\"\n",
    "print(z.replace(\"name1.@gmail.com\",\"name1\")[0:5])\n",
    "print(z.replace(\"name2.@gmail.com\",\"name2\")[17:22])\n",
    "print(z.replace(\"name3.@gmail.com\",\"name3\")[34:40])\n"
   ]
  },
  {
   "cell_type": "code",
   "execution_count": 33,
   "id": "b866f9da",
   "metadata": {},
   "outputs": [
    {
     "data": {
      "text/plain": [
       "'mei'"
      ]
     },
     "execution_count": 33,
     "metadata": {},
     "output_type": "execute_result"
    }
   ],
   "source": [
    "#9 given a string of odd length greaterthan 9,return a new string made of the middle three charecters of a given string\n",
    "var1=\"mynameissan\"\n",
    "var1[4:7]"
   ]
  },
  {
   "cell_type": "code",
   "execution_count": 20,
   "id": "6a177cb9",
   "metadata": {},
   "outputs": [
    {
     "data": {
      "text/plain": [
       "'msayn'"
      ]
     },
     "execution_count": 20,
     "metadata": {},
     "output_type": "execute_result"
    }
   ],
   "source": [
    "#10 Write a python program to unsert a 2 string in the middle of 1 string\n",
    "str1=\"myn\"\n",
    "str2=\"sa\"\n",
    "str1[0:1]+str2+str1[1:3]"
   ]
  },
  {
   "cell_type": "code",
   "execution_count": 22,
   "id": "871ab02c",
   "metadata": {},
   "outputs": [
    {
     "data": {
      "text/plain": [
       "'bcdfghjklmnpqrstvwxyz'"
      ]
     },
     "execution_count": 22,
     "metadata": {},
     "output_type": "execute_result"
    }
   ],
   "source": [
    "#11 write a program to remove vowels from the entire alphabets\n",
    "a=\"abcdefghijklmnopqrstuvwxyz\" \n",
    "a[1:4]+a[5:8]+a[9:14]+a[15:20]+a[21:26]"
   ]
  },
  {
   "cell_type": "code",
   "execution_count": null,
   "id": "198118bf",
   "metadata": {},
   "outputs": [],
   "source": [
    " "
   ]
  }
 ],
 "metadata": {
  "kernelspec": {
   "display_name": "Python 3 (ipykernel)",
   "language": "python",
   "name": "python3"
  },
  "language_info": {
   "codemirror_mode": {
    "name": "ipython",
    "version": 3
   },
   "file_extension": ".py",
   "mimetype": "text/x-python",
   "name": "python",
   "nbconvert_exporter": "python",
   "pygments_lexer": "ipython3",
   "version": "3.11.3"
  }
 },
 "nbformat": 4,
 "nbformat_minor": 5
}
