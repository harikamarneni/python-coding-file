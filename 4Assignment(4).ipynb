{
 "cells": [
  {
   "cell_type": "code",
   "execution_count": 1,
   "id": "2056cbf4",
   "metadata": {},
   "outputs": [
    {
     "name": "stdout",
     "output_type": "stream",
     "text": [
      "1\n",
      "2\n",
      "3\n",
      "4\n",
      "5\n",
      "6\n"
     ]
    }
   ],
   "source": [
    "#1.Write a Python program to loop through all the elements in a list\n",
    "\n",
    "for x in range(7):\n",
    "    if x!=0:\n",
    "        print(x)"
   ]
  },
  {
   "cell_type": "code",
   "execution_count": null,
   "id": "fc062778",
   "metadata": {},
   "outputs": [],
   "source": []
  },
  {
   "cell_type": "code",
   "execution_count": 28,
   "id": "3b403b67",
   "metadata": {},
   "outputs": [
    {
     "name": "stdout",
     "output_type": "stream",
     "text": [
      "ytr\n",
      "enter the position: 4\n"
     ]
    }
   ],
   "source": [
    "#2. Write a Python program where you will ask the users to insert elements in a list\n",
    "\n",
    "num1=input()\n",
    "list=[1,2,3,4,5,\"abc\"]\n",
    "x=int(input(\"enter the position: \"))\n",
    "if x>=len(list):\n",
    "    print(\"{}\".format(num1))\n",
    "    list.append(num1)[x]\n"
   ]
  },
  {
   "cell_type": "code",
   "execution_count": null,
   "id": "34907069",
   "metadata": {},
   "outputs": [],
   "source": []
  },
  {
   "cell_type": "code",
   "execution_count": 3,
   "id": "386b11d3",
   "metadata": {},
   "outputs": [
    {
     "name": "stdout",
     "output_type": "stream",
     "text": [
      "enter the length of the list: 3\n",
      "enter the value: 1\n",
      "enter the value: 2\n",
      "enter the value: 3\n",
      "[]\n"
     ]
    }
   ],
   "source": [
    "#3. Write a Python program to remove all the odd index value from a list and only even index elements should remain\n",
    "\n",
    "ip=[]\n",
    "op=[]\n",
    "a=1\n",
    "x=int(input(\"enter the length of the list: \"))\n",
    "if (a<=x):\n",
    "    while a<=x:\n",
    "        y=int(input (\"enter the value: \"))\n",
    "        a=a+1  \n",
    "        ip.insert(y,y)\n",
    "print(op)\n",
    "for i in op:\n",
    "    if(op.index(i)%2==0):\n",
    "        print(i)\n"
   ]
  },
  {
   "cell_type": "markdown",
   "id": "890b780d",
   "metadata": {},
   "source": [
    "for y in ip:\n",
    "    if ip[i]%2==0:\n",
    "        op.append(y)\n"
   ]
  },
  {
   "cell_type": "code",
   "execution_count": 4,
   "id": "0866fe1d",
   "metadata": {},
   "outputs": [
    {
     "name": "stdout",
     "output_type": "stream",
     "text": [
      "enter the range: 3\n",
      "enter the numbers: 6\n",
      "enter the numbers: 5\n",
      "enter the numbers: 4\n",
      "[6, 5, 4]\n",
      "15\n",
      "120\n"
     ]
    }
   ],
   "source": [
    "#4. Write a Python program to sum and multiply all the items in a list\n",
    "\n",
    "y=[]\n",
    "n=int(input(\"enter the range: \"))\n",
    "for i in range(n):\n",
    "    num3=input(\"enter the numbers: \")\n",
    "    if(num3.isdigit()):\n",
    "        num3=int(num3)\n",
    "        y.append(num3)\n",
    "    else:\n",
    "        y.append(num3)\n",
    "print(y)\n",
    "s=0\n",
    "product=1\n",
    "for i in y:\n",
    "    s+=i\n",
    "    product*=i\n",
    "print(s)\n",
    "print(product)\n"
   ]
  },
  {
   "cell_type": "markdown",
   "id": "2910d3ba",
   "metadata": {},
   "source": [
    "### y=map(lambda *x:sum(*x)/2,range(0,10))\n",
    "y"
   ]
  },
  {
   "cell_type": "code",
   "execution_count": 5,
   "id": "6d3a3f2f",
   "metadata": {},
   "outputs": [
    {
     "name": "stdout",
     "output_type": "stream",
     "text": [
      "enter the range: 5\n",
      "enter the numbers: 1\n",
      "enter the numbers: 2\n",
      "enter the numbers: 3\n",
      "enter the numbers: 4\n",
      "enter the numbers: 5\n",
      "[1, 2, 3, 4, 5]\n",
      "5\n",
      "1\n"
     ]
    }
   ],
   "source": [
    "#5. Write a Python program to get the maximum and minimum numbers from a list\n",
    "\n",
    "\n",
    "\n",
    "y=[]\n",
    "n=int(input(\"enter the range: \"))\n",
    "for i in range(n):\n",
    "    num3=input(\"enter the numbers: \")\n",
    "    if(num3.isdigit()):\n",
    "        num3=int(num3)\n",
    "        y.append(num3)\n",
    "    else:\n",
    "        y.append(num3)\n",
    "print(y)\n",
    "print(max(y))\n",
    "print(min(y))"
   ]
  },
  {
   "cell_type": "code",
   "execution_count": null,
   "id": "c4927558",
   "metadata": {},
   "outputs": [],
   "source": []
  },
  {
   "cell_type": "code",
   "execution_count": 36,
   "id": "3d410f1a",
   "metadata": {},
   "outputs": [
    {
     "data": {
      "text/plain": [
       "['b', 'c', 3, 'asd']"
      ]
     },
     "execution_count": 36,
     "metadata": {},
     "output_type": "execute_result"
    }
   ],
   "source": [
    "#6. Write a Python program to print a specified list after removing the 0th, 4th and 5th elements\n",
    "\n",
    "L=['a','b','c',1,2,3,\"asd\"]\n",
    "L.remove(2)\n",
    "L.remove(1)\n",
    "L.remove('a')\n",
    "L"
   ]
  },
  {
   "cell_type": "code",
   "execution_count": null,
   "id": "bd624a51",
   "metadata": {},
   "outputs": [],
   "source": []
  },
  {
   "cell_type": "code",
   "execution_count": 6,
   "id": "b3717056",
   "metadata": {},
   "outputs": [
    {
     "name": "stdout",
     "output_type": "stream",
     "text": [
      "['Green', 'White', 'Black']\n"
     ]
    }
   ],
   "source": [
    "#7. Write a Python program to convert a list of characters into a string\n",
    "\n",
    "\n",
    "x=['Red','Green', 'White', 'Black', 'Pink', 'Yellow']\n",
    "y=[0,4,5]\n",
    "z=[item for index,item in enumerate(x)if index not in y]\n",
    "print(z)\n"
   ]
  },
  {
   "cell_type": "code",
   "execution_count": null,
   "id": "7132f4e8",
   "metadata": {},
   "outputs": [],
   "source": []
  },
  {
   "cell_type": "code",
   "execution_count": 7,
   "id": "48947d0c",
   "metadata": {},
   "outputs": [
    {
     "name": "stdout",
     "output_type": "stream",
     "text": [
      "enter the range: 6\n",
      "enter the numbers: 1\n",
      "enter the numbers: 2\n",
      "enter the numbers: 3\n",
      "enter the numbers: 4\n",
      "enter the numbers: 5\n",
      "enter the numbers: 6\n",
      "[1, 2, 3, 4, 5, 6]\n",
      "3.5\n"
     ]
    }
   ],
   "source": [
    "#8.  Write a Python program to compute average of given lists.\n",
    "\n",
    "\n",
    "\n",
    "\n",
    "y=[]\n",
    "n=int(input(\"enter the range: \"))\n",
    "for i in range(n):\n",
    "    num3=input(\"enter the numbers: \")\n",
    "    if(num3.isdigit()):\n",
    "        num3=int(num3)\n",
    "        y.append(num3)\n",
    "    else:\n",
    "        y.append(num3)\n",
    "print(y)\n",
    "s=0\n",
    "avg=0\n",
    "length=len(y)\n",
    "for i in y:\n",
    "    s+=i\n",
    "avg=s/length\n",
    "print(avg)"
   ]
  },
  {
   "cell_type": "code",
   "execution_count": 41,
   "id": "06e26393",
   "metadata": {},
   "outputs": [
    {
     "data": {
      "text/plain": [
       "<map at 0x16e57366ce0>"
      ]
     },
     "execution_count": 41,
     "metadata": {},
     "output_type": "execute_result"
    }
   ],
   "source": []
  },
  {
   "cell_type": "code",
   "execution_count": 8,
   "id": "aff1d33e",
   "metadata": {},
   "outputs": [
    {
     "name": "stdout",
     "output_type": "stream",
     "text": [
      "enter the range: 5\n",
      "enter the numbers: d\n",
      "enter the numbers: w\n",
      "enter the numbers: m\n",
      "enter the numbers: ,\n",
      "enter the numbers: /\n",
      "['d', 'w', 'm', ',', '/']\n",
      "0\n"
     ]
    }
   ],
   "source": [
    "#9. Write a Python program to count integer in a given mixed list.\n",
    "\n",
    "\n",
    "\n",
    "y=[]\n",
    "n=int(input(\"enter the range: \"))\n",
    "for i in range(n):\n",
    "    num3=input(\"enter the numbers: \")\n",
    "    if(num3.isdigit()):\n",
    "        num3=int(num3)\n",
    "        y.append(num3)\n",
    "    else:\n",
    "        y.append(num3)\n",
    "print(y)\n",
    "count=0\n",
    "for i in str(y):\n",
    "    if (i.isdigit()):\n",
    "        count+=1\n",
    "print(count)"
   ]
  },
  {
   "cell_type": "code",
   "execution_count": null,
   "id": "c3f6fc5e",
   "metadata": {},
   "outputs": [],
   "source": []
  },
  {
   "cell_type": "code",
   "execution_count": 25,
   "id": "f93e193b",
   "metadata": {},
   "outputs": [
    {
     "data": {
      "text/plain": [
       "[5, 4, 3, 2, 1]"
      ]
     },
     "execution_count": 25,
     "metadata": {},
     "output_type": "execute_result"
    }
   ],
   "source": [
    "#10. Write a Python program to reverse the list\n",
    "\n",
    "l=[1,2,3,4,5]\n",
    "l.reverse()\n",
    "l"
   ]
  },
  {
   "cell_type": "code",
   "execution_count": null,
   "id": "7a0d3ecc",
   "metadata": {},
   "outputs": [],
   "source": []
  },
  {
   "cell_type": "code",
   "execution_count": 9,
   "id": "315346b4",
   "metadata": {},
   "outputs": [
    {
     "name": "stdout",
     "output_type": "stream",
     "text": [
      "enter a string: asdfghjkl\n",
      "('a', 's', 'd', 'f', 'g', 'h', 'j', 'k', 'l')\n"
     ]
    }
   ],
   "source": [
    "#11. Write a Python program convert a given string to a tuple\n",
    "\n",
    " \n",
    "        \n",
    "x=input(\"enter a string: \")\n",
    "y=tuple(x)\n",
    "print(y)\n",
    "    "
   ]
  },
  {
   "cell_type": "code",
   "execution_count": 10,
   "id": "4b95458b",
   "metadata": {},
   "outputs": [
    {
     "data": {
      "text/plain": [
       "tuple"
      ]
     },
     "execution_count": 10,
     "metadata": {},
     "output_type": "execute_result"
    }
   ],
   "source": [
    "type(y)"
   ]
  },
  {
   "cell_type": "code",
   "execution_count": null,
   "id": "8e170c0f",
   "metadata": {},
   "outputs": [],
   "source": []
  }
 ],
 "metadata": {
  "kernelspec": {
   "display_name": "Python 3 (ipykernel)",
   "language": "python",
   "name": "python3"
  },
  "language_info": {
   "codemirror_mode": {
    "name": "ipython",
    "version": 3
   },
   "file_extension": ".py",
   "mimetype": "text/x-python",
   "name": "python",
   "nbconvert_exporter": "python",
   "pygments_lexer": "ipython3",
   "version": "3.11.3"
  }
 },
 "nbformat": 4,
 "nbformat_minor": 5
}
