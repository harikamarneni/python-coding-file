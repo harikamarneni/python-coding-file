{
 "cells": [
  {
   "cell_type": "code",
   "execution_count": 1,
   "id": "8efff95a",
   "metadata": {},
   "outputs": [],
   "source": [
    "#1 Create a python program to print lower case alphabets (a-z) with conditional statment."
   ]
  },
  {
   "cell_type": "code",
   "execution_count": 2,
   "id": "0f70f256",
   "metadata": {},
   "outputs": [
    {
     "name": "stdout",
     "output_type": "stream",
     "text": [
      "abcdefghijklmnopqrstuvwxyz\n"
     ]
    }
   ],
   "source": [
    "al=\"abcdefghijklmnopqrstuvwxyz\"\n",
    "for x in al:\n",
    "    print(al)\n",
    "    break"
   ]
  },
  {
   "cell_type": "code",
   "execution_count": 3,
   "id": "0563599d",
   "metadata": {},
   "outputs": [],
   "source": [
    "#2 Create a python program to print lower &upper case alphabets with looping concepts(while loop and for loop)"
   ]
  },
  {
   "cell_type": "code",
   "execution_count": 2,
   "id": "37feebfd",
   "metadata": {},
   "outputs": [
    {
     "name": "stdout",
     "output_type": "stream",
     "text": [
      "ABCDEFGHIJKLMNOPQRSTUVWXYZ\n",
      "abcdefghijklmnopqrstuvwxyz\n"
     ]
    }
   ],
   "source": [
    "S=\"abcdefghijklmnopqrstuvwxyz\"\n",
    "C=\"ABCDEFGHIJKLMNOPQRSTUVWXYZ\"\n",
    "x=0\n",
    "while x>=0:\n",
    "    print(C)\n",
    "    x=x-1\n",
    "    for c in S:\n",
    "        print(S)\n",
    "        break"
   ]
  },
  {
   "cell_type": "code",
   "execution_count": null,
   "id": "33c7af66",
   "metadata": {},
   "outputs": [],
   "source": []
  }
 ],
 "metadata": {
  "kernelspec": {
   "display_name": "Python 3 (ipykernel)",
   "language": "python",
   "name": "python3"
  },
  "language_info": {
   "codemirror_mode": {
    "name": "ipython",
    "version": 3
   },
   "file_extension": ".py",
   "mimetype": "text/x-python",
   "name": "python",
   "nbconvert_exporter": "python",
   "pygments_lexer": "ipython3",
   "version": "3.11.3"
  }
 },
 "nbformat": 4,
 "nbformat_minor": 5
}
