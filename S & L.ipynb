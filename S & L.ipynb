{
 "cells": [
  {
   "cell_type": "code",
   "execution_count": null,
   "id": "03858e4e",
   "metadata": {},
   "outputs": [],
   "source": []
  },
  {
   "cell_type": "code",
   "execution_count": null,
   "id": "3e0cdcb1",
   "metadata": {},
   "outputs": [],
   "source": []
  },
  {
   "cell_type": "code",
   "execution_count": null,
   "id": "d4edd276",
   "metadata": {},
   "outputs": [],
   "source": [
    "import random\n",
    "Ladder={2:39,26:53,55:77,80:98,70:98}\n",
    "Snake={32:14,44:17,62:56,85:50}\n",
    "pos1=0\n",
    "pos2=0\n",
    "dice=random.randint(1,6)\n",
    "def game(pos):\n",
    "    \n",
    "    print(\"dice:{}\".format(dice))\n",
    "    pos=pos + dice\n",
    "    if pos in snake:\n",
    "        print(\"Bitten by snake\")\n",
    "        pos=snake[pos]\n",
    "        print(\"position:{}\".format(pos))\n",
    "    elif pos in ladder:\n",
    "        print(\"climb ladder\")\n",
    "        pos=ladder[pos]\n",
    "        print(\"position:{}\".format(pos))\n",
    "    else:\n",
    "        print(\"position: {}\".format(pos))\n",
    "    return pos\n",
    "while True:\n",
    "    A=input(\"player 1 throw dice:\")\n",
    "    pos1=pos1+dice\n",
    "    if pos1>=100:\n",
    "        print(\"game over\")\n",
    "        print(\"player 1 win\")\n",
    "        break\n",
    "    B=input(\"player 2 throw dice:\")\n",
    "    pos2=pos2+dice\n",
    "    if pos2>=100:\n",
    "        print(\"game over\")\n",
    "        print(\"player 2 win\")\n",
    "        break\n",
    "        \n",
    "        "
   ]
  },
  {
   "cell_type": "code",
   "execution_count": null,
   "id": "609c7a6f",
   "metadata": {},
   "outputs": [],
   "source": []
  }
 ],
 "metadata": {
  "kernelspec": {
   "display_name": "Python 3 (ipykernel)",
   "language": "python",
   "name": "python3"
  },
  "language_info": {
   "codemirror_mode": {
    "name": "ipython",
    "version": 3
   },
   "file_extension": ".py",
   "mimetype": "text/x-python",
   "name": "python",
   "nbconvert_exporter": "python",
   "pygments_lexer": "ipython3",
   "version": "3.11.3"
  }
 },
 "nbformat": 4,
 "nbformat_minor": 5
}
